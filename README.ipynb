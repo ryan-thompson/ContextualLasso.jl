{
  "cells": [
    {
      "cell_type": "raw",
      "metadata": {},
      "source": [
        "---\n",
        "format: gfm\n",
        "---"
      ],
      "id": "d8de59e3"
    },
    {
      "cell_type": "markdown",
      "metadata": {},
      "source": [
        "# ContextualLasso\n",
        "\n",
        "Julia implementation of the contextual lasso from the paper ['The contextual lasso: Sparse linear models via deep neural networks'](https://arxiv.org/abs/2302.00878).\n",
        "\n",
        "## Installation\n",
        "\n",
        "To install `ContextualLasso` from GitHub, run the following code:\n"
      ],
      "id": "d97620c5"
    },
    {
      "cell_type": "code",
      "metadata": {},
      "source": [
        "#| eval: false\n",
        "using Pkg\n",
        "Pkg.add(url = \"https://github.com/ryan-thompson/ContextualLasso.jl\")"
      ],
      "id": "770e2f3c",
      "execution_count": null,
      "outputs": []
    },
    {
      "cell_type": "markdown",
      "metadata": {},
      "source": [
        "## Usage\n",
        "\n",
        "The `classo()` function fits a contextually sparse linear model using explantory features `x`, contextual features `z`, and response `y`.\n"
      ],
      "id": "eea8a24a"
    },
    {
      "cell_type": "code",
      "metadata": {},
      "source": [
        "using ContextualLasso, LinearAlgebra, Random, Statistics\n",
        "\n",
        "Random.seed!(2023)\n",
        "\n",
        "n = 1000 # Number of samples\n",
        "p = 20 # Number of explanatory features\n",
        "m = 2 # Number of contextual features\n",
        "s = 0.1 # Explanatory feature sparsity\n",
        "\n",
        "# Generate explanatory features\n",
        "x = randn(n, p)\n",
        "\n",
        "# Generate contextual features\n",
        "z = rand(n, m) .* 2 .- 1\n",
        "\n",
        "# Generate coefficients on hyperspheres\n",
        "center = rand(p, m) .* 2 .- 1\n",
        "radius = quantile.(eachcol([norm(z[i, :] - center[j, :], 2) for i in 1:n, j in 1:p]), s)\n",
        "beta = [float(norm(z[i, :] - center[j, :], 2) < radius[j]) for i in 1:n, j in 1:p]\n",
        "\n",
        "# Generate response\n",
        "mu = dropdims(sum(x .* beta, dims = 2), dims = 2)\n",
        "y = mu + randn(n)\n",
        "y_val = mu + randn(n)\n",
        "\n",
        "# Fit a contextual lasso model with three hidden layers of 16 neurons each\n",
        "fit = classo(\n",
        "    x, z, y, x, z, y_val, intercept = false, hidden_layers = [16, 16, 16], \n",
        "    lambda_n = 15, verbose = false\n",
        "    )\n",
        "plot(fit) |> display"
      ],
      "id": "b75be4d2",
      "execution_count": null,
      "outputs": []
    },
    {
      "cell_type": "code",
      "metadata": {},
      "source": [
        "# Compare estimation with least squares estimator\n",
        "beta_classo = coef(fit, z)\n",
        "@show norm(beta - beta_classo, 2)\n",
        "beta_ls = repeat((inv(x' * x) * x' * y)', n)\n",
        "@show norm(beta - beta_ls, 2);"
      ],
      "id": "02f47337",
      "execution_count": null,
      "outputs": []
    },
    {
      "cell_type": "code",
      "metadata": {},
      "source": [
        "# Compare prediction with least squares estimator\n",
        "mu_classo = predict(fit, x, z)\n",
        "@show norm(mu - mu_classo, 2)\n",
        "mu_ls = sum(x .* beta_ls, dims = 2)\n",
        "@show norm(mu - mu_ls, 2);"
      ],
      "id": "e655db43",
      "execution_count": null,
      "outputs": []
    }
  ],
  "metadata": {
    "kernelspec": {
      "name": "julia-1.9",
      "language": "julia",
      "display_name": "Julia 1.9.0"
    }
  },
  "nbformat": 4,
  "nbformat_minor": 5
}